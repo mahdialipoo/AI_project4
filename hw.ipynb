{
 "cells": [
  {
   "cell_type": "markdown",
   "metadata": {},
   "source": [
    "# Table\n",
    "Construction of m*n game board saved in tab numpy aray ."
   ]
  },
  {
   "cell_type": "code",
   "execution_count": 2,
   "metadata": {},
   "outputs": [],
   "source": [
    "import numpy as np\n",
    "import pandas as pd\n",
    "hardness='easy'\n",
    "# hardness='medium'\n",
    "# hardness='hard'\n",
    "# hardness='expert'\n",
    "df=pd.read_csv(hardness+'/tab.csv')\n",
    "tab=np.array(df.values.tolist())\n",
    "df=pd.read_csv(hardness+'/constrain.csv')\n",
    "constrain=df.values.tolist()"
   ]
  },
  {
   "cell_type": "code",
   "execution_count": 1,
   "metadata": {},
   "outputs": [],
   "source": [
    "# import numpy as np\n",
    "# import pandas as pd\n",
    "# m=5\n",
    "# n=5\n",
    "# tab=np.zeros([m,n],dtype=int)\n",
    "# obs=np.zeros([m,n],dtype=int)\n",
    "# obs[1:,0]=1\n",
    "# obs[0,3:n-2]=1\n",
    "# obs[2:3,3]=1\n",
    "# obs[0,0:5]=1\n",
    "# obs[2,4]=1\n",
    "# obs[4,1:3]=1\n",
    "# tab[obs==1]=-1\n",
    "# constrain=[]\n",
    "# c=[1,0,2,False,6] #[[i,j],n,(True is vertical ) or (False is herozintal),sum]\n",
    "# constrain.append(c)\n",
    "# c=[2,3,2,True,5]\n",
    "# constrain.append(c)"
   ]
  },
  {
   "cell_type": "markdown",
   "metadata": {},
   "source": [
    "Table display"
   ]
  },
  {
   "cell_type": "code",
   "execution_count": 3,
   "metadata": {},
   "outputs": [
    {
     "data": {
      "text/plain": [
       "array([[-1, -1, -1, -1, -1, -1, -1, -1],\n",
       "       [-1, -1,  0,  0,  0, -1,  0,  0],\n",
       "       [-1,  0,  0,  0,  0,  0,  0,  0],\n",
       "       [-1,  0,  0, -1,  0,  0, -1, -1],\n",
       "       [-1, -1,  0,  0, -1,  0,  0, -1],\n",
       "       [-1, -1, -1,  0,  0, -1,  0,  0],\n",
       "       [-1,  0,  0,  0,  0,  0,  0,  0],\n",
       "       [-1,  0,  0, -1,  0,  0,  0, -1]])"
      ]
     },
     "execution_count": 3,
     "metadata": {},
     "output_type": "execute_result"
    }
   ],
   "source": [
    "tab"
   ]
  },
  {
   "cell_type": "markdown",
   "metadata": {},
   "source": [
    "constrain saved in a list named as constrain ."
   ]
  },
  {
   "cell_type": "code",
   "execution_count": 3,
   "metadata": {},
   "outputs": [
    {
     "data": {
      "text/plain": [
       "[[0, 2, 4, 1, 30],\n",
       " [0, 3, 2, 1, 4],\n",
       " [0, 4, 3, 1, 24],\n",
       " [1, 5, 3, 1, 9],\n",
       " [0, 6, 2, 1, 4],\n",
       " [0, 7, 2, 1, 16],\n",
       " [1, 1, 2, 1, 16],\n",
       " [1, 1, 3, 0, 19],\n",
       " [1, 5, 2, 0, 10],\n",
       " [2, 0, 7, 0, 39],\n",
       " [3, 0, 2, 0, 15],\n",
       " [3, 3, 2, 0, 10],\n",
       " [3, 3, 3, 1, 23],\n",
       " [3, 6, 4, 1, 10],\n",
       " [4, 1, 2, 0, 16],\n",
       " [4, 4, 2, 0, 4],\n",
       " [4, 7, 2, 1, 16],\n",
       " [4, 4, 3, 1, 6],\n",
       " [5, 1, 2, 1, 14],\n",
       " [5, 2, 2, 1, 16],\n",
       " [5, 5, 2, 1, 4],\n",
       " [5, 2, 2, 0, 9],\n",
       " [5, 5, 2, 0, 12],\n",
       " [6, 0, 7, 0, 35],\n",
       " [7, 0, 2, 0, 16],\n",
       " [7, 3, 3, 0, 7]]"
      ]
     },
     "execution_count": 3,
     "metadata": {},
     "output_type": "execute_result"
    }
   ],
   "source": [
    "constrain"
   ]
  },
  {
   "cell_type": "markdown",
   "metadata": {},
   "source": [
    "checking if table hoped to be solved ?"
   ]
  },
  {
   "cell_type": "code",
   "execution_count": 4,
   "metadata": {},
   "outputs": [],
   "source": [
    "def constrain_hope(table,constrain):\n",
    "    if constrain==True:\n",
    "        return True\n",
    "    (i,j)=(constrain[0],constrain[1])\n",
    "    n=constrain[2]\n",
    "    sum=constrain[4]\n",
    "    if constrain[3]:\n",
    "        r=table[i+1:i+1+n,j]      \n",
    "    else:\n",
    "        r=table[i,j+1:j+1+n]\n",
    "    if (np.unique(r[r!=0]).size)<(r[r!=0].size):\n",
    "        return False\n",
    "    if sum<np.sum(r):\n",
    "        return False\n",
    "    return True"
   ]
  },
  {
   "cell_type": "markdown",
   "metadata": {},
   "source": [
    "checking if is completely solved ?"
   ]
  },
  {
   "cell_type": "code",
   "execution_count": 5,
   "metadata": {},
   "outputs": [],
   "source": [
    "def tab_solved(table,constrain):\n",
    "   for c in constrain:\n",
    "      (i,j)=(c[0],c[1])\n",
    "      n=c[2]\n",
    "      sum=c[4]\n",
    "      if c[3]:\n",
    "         r=table[i+1:i+1+n,j]      \n",
    "      else:\n",
    "         r=table[i,j+1:j+1+n]\n",
    "      if not(sum==np.sum(r)):\n",
    "         return False\n",
    "      return True"
   ]
  },
  {
   "cell_type": "markdown",
   "metadata": {},
   "source": [
    "searching a cell constrain in raow and column "
   ]
  },
  {
   "cell_type": "code",
   "execution_count": 6,
   "metadata": {},
   "outputs": [],
   "source": [
    "def search_constrain_v(constrain,x,y):\n",
    "    for i in constrain:\n",
    "        if i[3]==True and i[1]==y and x>i[0] and x<=i[0]+i[2]:\n",
    "            return i\n",
    "    return True\n",
    "def search_constrain_h(constrain,x,y):\n",
    "    for i in constrain:\n",
    "        if i[3]==False and i[0]==x and y>i[1] and y<=i[1]+i[2]:\n",
    "            return i\n",
    "    return True"
   ]
  },
  {
   "cell_type": "markdown",
   "metadata": {},
   "source": [
    "# search\n",
    "The below function is to search in state space ."
   ]
  },
  {
   "cell_type": "code",
   "execution_count": 7,
   "metadata": {},
   "outputs": [],
   "source": [
    "def search(tab,constrain,selection):\n",
    "    r,c=selection(tab)\n",
    "    if r==-1:\n",
    "        if tab_solved(tab,constrain):\n",
    "            return True\n",
    "        else :\n",
    "            return False\n",
    "    c1=search_constrain_v(constrain,r,c)\n",
    "    c2=search_constrain_h(constrain,r,c)\n",
    "    for i in range(1,9):\n",
    "        tab[r,c]=i\n",
    "        if not(constrain_hope(tab,c1) and constrain_hope(tab,c2)):\n",
    "            tab[r,c]=0\n",
    "            continue\n",
    "        if search(tab,constrain,selection):\n",
    "            return True\n",
    "        tab[r,c]=0\n",
    "    return False"
   ]
  },
  {
   "cell_type": "markdown",
   "metadata": {},
   "source": [
    "# primary agent\n",
    "selection in order :"
   ]
  },
  {
   "cell_type": "code",
   "execution_count": 8,
   "metadata": {},
   "outputs": [],
   "source": [
    "def select_cell(tab):\n",
    "    if not 0 in tab:\n",
    "        return -1,-1\n",
    "    else:\n",
    "        for i in range(tab.shape[0]):\n",
    "            for j in range(tab.shape[1]):\n",
    "                if tab[i,j]==0:\n",
    "                    return i,j"
   ]
  },
  {
   "cell_type": "code",
   "execution_count": 13,
   "metadata": {},
   "outputs": [
    {
     "ename": "KeyboardInterrupt",
     "evalue": "",
     "output_type": "error",
     "traceback": [
      "\u001b[1;31m---------------------------------------------------------------------------\u001b[0m",
      "\u001b[1;31mKeyboardInterrupt\u001b[0m                         Traceback (most recent call last)",
      "\u001b[1;32md:\\term9\\intelligence\\HW\\4\\hw.ipynb Cell 18\u001b[0m line \u001b[0;36m<cell line: 2>\u001b[1;34m()\u001b[0m\n\u001b[0;32m      <a href='vscode-notebook-cell:/d%3A/term9/intelligence/HW/4/hw.ipynb#X23sZmlsZQ%3D%3D?line=0'>1</a>\u001b[0m tab1\u001b[39m=\u001b[39mtab\u001b[39m.\u001b[39mcopy()\n\u001b[1;32m----> <a href='vscode-notebook-cell:/d%3A/term9/intelligence/HW/4/hw.ipynb#X23sZmlsZQ%3D%3D?line=1'>2</a>\u001b[0m search(tab1,constrain,selection\u001b[39m=\u001b[39;49mselect_cell)\n",
      "\u001b[1;32md:\\term9\\intelligence\\HW\\4\\hw.ipynb Cell 18\u001b[0m line \u001b[0;36msearch\u001b[1;34m(tab, constrain, selection)\u001b[0m\n\u001b[0;32m     <a href='vscode-notebook-cell:/d%3A/term9/intelligence/HW/4/hw.ipynb#X23sZmlsZQ%3D%3D?line=12'>13</a>\u001b[0m     tab[r,c]\u001b[39m=\u001b[39m\u001b[39m0\u001b[39m\n\u001b[0;32m     <a href='vscode-notebook-cell:/d%3A/term9/intelligence/HW/4/hw.ipynb#X23sZmlsZQ%3D%3D?line=13'>14</a>\u001b[0m     \u001b[39mcontinue\u001b[39;00m\n\u001b[1;32m---> <a href='vscode-notebook-cell:/d%3A/term9/intelligence/HW/4/hw.ipynb#X23sZmlsZQ%3D%3D?line=14'>15</a>\u001b[0m \u001b[39mif\u001b[39;00m search(tab,constrain,selection):\n\u001b[0;32m     <a href='vscode-notebook-cell:/d%3A/term9/intelligence/HW/4/hw.ipynb#X23sZmlsZQ%3D%3D?line=15'>16</a>\u001b[0m     \u001b[39mreturn\u001b[39;00m \u001b[39mTrue\u001b[39;00m\n\u001b[0;32m     <a href='vscode-notebook-cell:/d%3A/term9/intelligence/HW/4/hw.ipynb#X23sZmlsZQ%3D%3D?line=16'>17</a>\u001b[0m tab[r,c]\u001b[39m=\u001b[39m\u001b[39m0\u001b[39m\n",
      "\u001b[1;32md:\\term9\\intelligence\\HW\\4\\hw.ipynb Cell 18\u001b[0m line \u001b[0;36msearch\u001b[1;34m(tab, constrain, selection)\u001b[0m\n\u001b[0;32m     <a href='vscode-notebook-cell:/d%3A/term9/intelligence/HW/4/hw.ipynb#X23sZmlsZQ%3D%3D?line=12'>13</a>\u001b[0m     tab[r,c]\u001b[39m=\u001b[39m\u001b[39m0\u001b[39m\n\u001b[0;32m     <a href='vscode-notebook-cell:/d%3A/term9/intelligence/HW/4/hw.ipynb#X23sZmlsZQ%3D%3D?line=13'>14</a>\u001b[0m     \u001b[39mcontinue\u001b[39;00m\n\u001b[1;32m---> <a href='vscode-notebook-cell:/d%3A/term9/intelligence/HW/4/hw.ipynb#X23sZmlsZQ%3D%3D?line=14'>15</a>\u001b[0m \u001b[39mif\u001b[39;00m search(tab,constrain,selection):\n\u001b[0;32m     <a href='vscode-notebook-cell:/d%3A/term9/intelligence/HW/4/hw.ipynb#X23sZmlsZQ%3D%3D?line=15'>16</a>\u001b[0m     \u001b[39mreturn\u001b[39;00m \u001b[39mTrue\u001b[39;00m\n\u001b[0;32m     <a href='vscode-notebook-cell:/d%3A/term9/intelligence/HW/4/hw.ipynb#X23sZmlsZQ%3D%3D?line=16'>17</a>\u001b[0m tab[r,c]\u001b[39m=\u001b[39m\u001b[39m0\u001b[39m\n",
      "    \u001b[1;31m[... skipping similar frames: search at line 15 (30 times)]\u001b[0m\n",
      "\u001b[1;32md:\\term9\\intelligence\\HW\\4\\hw.ipynb Cell 18\u001b[0m line \u001b[0;36msearch\u001b[1;34m(tab, constrain, selection)\u001b[0m\n\u001b[0;32m     <a href='vscode-notebook-cell:/d%3A/term9/intelligence/HW/4/hw.ipynb#X23sZmlsZQ%3D%3D?line=12'>13</a>\u001b[0m     tab[r,c]\u001b[39m=\u001b[39m\u001b[39m0\u001b[39m\n\u001b[0;32m     <a href='vscode-notebook-cell:/d%3A/term9/intelligence/HW/4/hw.ipynb#X23sZmlsZQ%3D%3D?line=13'>14</a>\u001b[0m     \u001b[39mcontinue\u001b[39;00m\n\u001b[1;32m---> <a href='vscode-notebook-cell:/d%3A/term9/intelligence/HW/4/hw.ipynb#X23sZmlsZQ%3D%3D?line=14'>15</a>\u001b[0m \u001b[39mif\u001b[39;00m search(tab,constrain,selection):\n\u001b[0;32m     <a href='vscode-notebook-cell:/d%3A/term9/intelligence/HW/4/hw.ipynb#X23sZmlsZQ%3D%3D?line=15'>16</a>\u001b[0m     \u001b[39mreturn\u001b[39;00m \u001b[39mTrue\u001b[39;00m\n\u001b[0;32m     <a href='vscode-notebook-cell:/d%3A/term9/intelligence/HW/4/hw.ipynb#X23sZmlsZQ%3D%3D?line=16'>17</a>\u001b[0m tab[r,c]\u001b[39m=\u001b[39m\u001b[39m0\u001b[39m\n",
      "\u001b[1;32md:\\term9\\intelligence\\HW\\4\\hw.ipynb Cell 18\u001b[0m line \u001b[0;36msearch\u001b[1;34m(tab, constrain, selection)\u001b[0m\n\u001b[0;32m     <a href='vscode-notebook-cell:/d%3A/term9/intelligence/HW/4/hw.ipynb#X23sZmlsZQ%3D%3D?line=9'>10</a>\u001b[0m \u001b[39mfor\u001b[39;00m i \u001b[39min\u001b[39;00m \u001b[39mrange\u001b[39m(\u001b[39m1\u001b[39m,\u001b[39m9\u001b[39m):\n\u001b[0;32m     <a href='vscode-notebook-cell:/d%3A/term9/intelligence/HW/4/hw.ipynb#X23sZmlsZQ%3D%3D?line=10'>11</a>\u001b[0m     tab[r,c]\u001b[39m=\u001b[39mi\n\u001b[1;32m---> <a href='vscode-notebook-cell:/d%3A/term9/intelligence/HW/4/hw.ipynb#X23sZmlsZQ%3D%3D?line=11'>12</a>\u001b[0m     \u001b[39mif\u001b[39;00m \u001b[39mnot\u001b[39;00m(constrain_hope(tab,c1) \u001b[39mand\u001b[39;00m constrain_hope(tab,c2)):\n\u001b[0;32m     <a href='vscode-notebook-cell:/d%3A/term9/intelligence/HW/4/hw.ipynb#X23sZmlsZQ%3D%3D?line=12'>13</a>\u001b[0m         tab[r,c]\u001b[39m=\u001b[39m\u001b[39m0\u001b[39m\n\u001b[0;32m     <a href='vscode-notebook-cell:/d%3A/term9/intelligence/HW/4/hw.ipynb#X23sZmlsZQ%3D%3D?line=13'>14</a>\u001b[0m         \u001b[39mcontinue\u001b[39;00m\n",
      "\u001b[1;32md:\\term9\\intelligence\\HW\\4\\hw.ipynb Cell 18\u001b[0m line \u001b[0;36mconstrain_hope\u001b[1;34m(table, constrain)\u001b[0m\n\u001b[0;32m      <a href='vscode-notebook-cell:/d%3A/term9/intelligence/HW/4/hw.ipynb#X23sZmlsZQ%3D%3D?line=8'>9</a>\u001b[0m \u001b[39melse\u001b[39;00m:\n\u001b[0;32m     <a href='vscode-notebook-cell:/d%3A/term9/intelligence/HW/4/hw.ipynb#X23sZmlsZQ%3D%3D?line=9'>10</a>\u001b[0m     r\u001b[39m=\u001b[39mtable[i,j\u001b[39m+\u001b[39m\u001b[39m1\u001b[39m:j\u001b[39m+\u001b[39m\u001b[39m1\u001b[39m\u001b[39m+\u001b[39mn]\n\u001b[1;32m---> <a href='vscode-notebook-cell:/d%3A/term9/intelligence/HW/4/hw.ipynb#X23sZmlsZQ%3D%3D?line=10'>11</a>\u001b[0m \u001b[39mif\u001b[39;00m (np\u001b[39m.\u001b[39;49munique(r[r\u001b[39m!=\u001b[39;49m\u001b[39m0\u001b[39;49m])\u001b[39m.\u001b[39msize)\u001b[39m<\u001b[39m(r[r\u001b[39m!=\u001b[39m\u001b[39m0\u001b[39m]\u001b[39m.\u001b[39msize):\n\u001b[0;32m     <a href='vscode-notebook-cell:/d%3A/term9/intelligence/HW/4/hw.ipynb#X23sZmlsZQ%3D%3D?line=11'>12</a>\u001b[0m     \u001b[39mreturn\u001b[39;00m \u001b[39mFalse\u001b[39;00m\n\u001b[0;32m     <a href='vscode-notebook-cell:/d%3A/term9/intelligence/HW/4/hw.ipynb#X23sZmlsZQ%3D%3D?line=12'>13</a>\u001b[0m \u001b[39mif\u001b[39;00m \u001b[39msum\u001b[39m\u001b[39m<\u001b[39mnp\u001b[39m.\u001b[39msum(r):\n",
      "File \u001b[1;32m<__array_function__ internals>:180\u001b[0m, in \u001b[0;36munique\u001b[1;34m(*args, **kwargs)\u001b[0m\n",
      "File \u001b[1;32mc:\\Users\\ACER\\AppData\\Local\\Programs\\Python\\Python310\\lib\\site-packages\\numpy\\lib\\arraysetops.py:274\u001b[0m, in \u001b[0;36munique\u001b[1;34m(ar, return_index, return_inverse, return_counts, axis, equal_nan)\u001b[0m\n\u001b[0;32m    272\u001b[0m ar \u001b[39m=\u001b[39m np\u001b[39m.\u001b[39masanyarray(ar)\n\u001b[0;32m    273\u001b[0m \u001b[39mif\u001b[39;00m axis \u001b[39mis\u001b[39;00m \u001b[39mNone\u001b[39;00m:\n\u001b[1;32m--> 274\u001b[0m     ret \u001b[39m=\u001b[39m _unique1d(ar, return_index, return_inverse, return_counts, \n\u001b[0;32m    275\u001b[0m                     equal_nan\u001b[39m=\u001b[39;49mequal_nan)\n\u001b[0;32m    276\u001b[0m     \u001b[39mreturn\u001b[39;00m _unpack_tuple(ret)\n\u001b[0;32m    278\u001b[0m \u001b[39m# axis was specified and not None\u001b[39;00m\n",
      "File \u001b[1;32mc:\\Users\\ACER\\AppData\\Local\\Programs\\Python\\Python310\\lib\\site-packages\\numpy\\lib\\arraysetops.py:328\u001b[0m, in \u001b[0;36m_unique1d\u001b[1;34m(ar, return_index, return_inverse, return_counts, equal_nan)\u001b[0m\n\u001b[0;32m    323\u001b[0m \u001b[39mdef\u001b[39;00m \u001b[39m_unique1d\u001b[39m(ar, return_index\u001b[39m=\u001b[39m\u001b[39mFalse\u001b[39;00m, return_inverse\u001b[39m=\u001b[39m\u001b[39mFalse\u001b[39;00m,\n\u001b[0;32m    324\u001b[0m               return_counts\u001b[39m=\u001b[39m\u001b[39mFalse\u001b[39;00m, \u001b[39m*\u001b[39m, equal_nan\u001b[39m=\u001b[39m\u001b[39mTrue\u001b[39;00m):\n\u001b[0;32m    325\u001b[0m     \u001b[39m\"\"\"\u001b[39;00m\n\u001b[0;32m    326\u001b[0m \u001b[39m    Find the unique elements of an array, ignoring shape.\u001b[39;00m\n\u001b[0;32m    327\u001b[0m \u001b[39m    \"\"\"\u001b[39;00m\n\u001b[1;32m--> 328\u001b[0m     ar \u001b[39m=\u001b[39m np\u001b[39m.\u001b[39;49masanyarray(ar)\u001b[39m.\u001b[39;49mflatten()\n\u001b[0;32m    330\u001b[0m     optional_indices \u001b[39m=\u001b[39m return_index \u001b[39mor\u001b[39;00m return_inverse\n\u001b[0;32m    332\u001b[0m     \u001b[39mif\u001b[39;00m optional_indices:\n",
      "\u001b[1;31mKeyboardInterrupt\u001b[0m: "
     ]
    }
   ],
   "source": [
    "tab1=tab.copy()\n",
    "search(tab1,constrain,selection=select_cell)"
   ]
  },
  {
   "cell_type": "code",
   "execution_count": 14,
   "metadata": {},
   "outputs": [
    {
     "data": {
      "text/plain": [
       "array([[-1, -1, -1, -1, -1, -1, -1, -1],\n",
       "       [-1, -1,  1,  2,  3, -1,  1,  2],\n",
       "       [-1,  2,  4,  1,  5,  6,  3,  7],\n",
       "       [-1,  1,  2, -1,  1,  2, -1, -1],\n",
       "       [-1, -1,  3,  1, -1,  1,  2, -1],\n",
       "       [-1, -1, -1,  3,  1, -1,  3,  8],\n",
       "       [-1,  1,  8,  6,  5,  2,  4,  7],\n",
       "       [-1,  6,  1, -1,  6,  0,  0, -1]])"
      ]
     },
     "execution_count": 14,
     "metadata": {},
     "output_type": "execute_result"
    }
   ],
   "source": [
    "tab1"
   ]
  },
  {
   "cell_type": "markdown",
   "metadata": {},
   "source": [
    "selction in random"
   ]
  },
  {
   "cell_type": "code",
   "execution_count": 9,
   "metadata": {},
   "outputs": [],
   "source": [
    "def select_cell_random(tab):\n",
    "    if not 0 in tab:\n",
    "        return -1,-1\n",
    "    else:\n",
    "        while True:\n",
    "            a=np.random.randint(0,tab.shape[0],size=1)\n",
    "            b=np.random.randint(0,tab.shape[1],size=1)\n",
    "            if tab[a,b]==0:\n",
    "                return a,b"
   ]
  },
  {
   "cell_type": "code",
   "execution_count": 16,
   "metadata": {},
   "outputs": [
    {
     "ename": "KeyboardInterrupt",
     "evalue": "",
     "output_type": "error",
     "traceback": [
      "\u001b[1;31m---------------------------------------------------------------------------\u001b[0m",
      "\u001b[1;31mKeyboardInterrupt\u001b[0m                         Traceback (most recent call last)",
      "\u001b[1;32md:\\term9\\intelligence\\HW\\4\\hw.ipynb Cell 24\u001b[0m line \u001b[0;36m<cell line: 2>\u001b[1;34m()\u001b[0m\n\u001b[0;32m      <a href='vscode-notebook-cell:/d%3A/term9/intelligence/HW/4/hw.ipynb#X31sZmlsZQ%3D%3D?line=0'>1</a>\u001b[0m tab2\u001b[39m=\u001b[39mtab\u001b[39m.\u001b[39mcopy()\n\u001b[1;32m----> <a href='vscode-notebook-cell:/d%3A/term9/intelligence/HW/4/hw.ipynb#X31sZmlsZQ%3D%3D?line=1'>2</a>\u001b[0m search(tab2,constrain,selection\u001b[39m=\u001b[39;49mselect_cell_random)\n",
      "\u001b[1;32md:\\term9\\intelligence\\HW\\4\\hw.ipynb Cell 24\u001b[0m line \u001b[0;36msearch\u001b[1;34m(tab, constrain, selection)\u001b[0m\n\u001b[0;32m     <a href='vscode-notebook-cell:/d%3A/term9/intelligence/HW/4/hw.ipynb#X31sZmlsZQ%3D%3D?line=12'>13</a>\u001b[0m     tab[r,c]\u001b[39m=\u001b[39m\u001b[39m0\u001b[39m\n\u001b[0;32m     <a href='vscode-notebook-cell:/d%3A/term9/intelligence/HW/4/hw.ipynb#X31sZmlsZQ%3D%3D?line=13'>14</a>\u001b[0m     \u001b[39mcontinue\u001b[39;00m\n\u001b[1;32m---> <a href='vscode-notebook-cell:/d%3A/term9/intelligence/HW/4/hw.ipynb#X31sZmlsZQ%3D%3D?line=14'>15</a>\u001b[0m \u001b[39mif\u001b[39;00m search(tab,constrain,selection):\n\u001b[0;32m     <a href='vscode-notebook-cell:/d%3A/term9/intelligence/HW/4/hw.ipynb#X31sZmlsZQ%3D%3D?line=15'>16</a>\u001b[0m     \u001b[39mreturn\u001b[39;00m \u001b[39mTrue\u001b[39;00m\n\u001b[0;32m     <a href='vscode-notebook-cell:/d%3A/term9/intelligence/HW/4/hw.ipynb#X31sZmlsZQ%3D%3D?line=16'>17</a>\u001b[0m tab[r,c]\u001b[39m=\u001b[39m\u001b[39m0\u001b[39m\n",
      "\u001b[1;32md:\\term9\\intelligence\\HW\\4\\hw.ipynb Cell 24\u001b[0m line \u001b[0;36msearch\u001b[1;34m(tab, constrain, selection)\u001b[0m\n\u001b[0;32m     <a href='vscode-notebook-cell:/d%3A/term9/intelligence/HW/4/hw.ipynb#X31sZmlsZQ%3D%3D?line=12'>13</a>\u001b[0m     tab[r,c]\u001b[39m=\u001b[39m\u001b[39m0\u001b[39m\n\u001b[0;32m     <a href='vscode-notebook-cell:/d%3A/term9/intelligence/HW/4/hw.ipynb#X31sZmlsZQ%3D%3D?line=13'>14</a>\u001b[0m     \u001b[39mcontinue\u001b[39;00m\n\u001b[1;32m---> <a href='vscode-notebook-cell:/d%3A/term9/intelligence/HW/4/hw.ipynb#X31sZmlsZQ%3D%3D?line=14'>15</a>\u001b[0m \u001b[39mif\u001b[39;00m search(tab,constrain,selection):\n\u001b[0;32m     <a href='vscode-notebook-cell:/d%3A/term9/intelligence/HW/4/hw.ipynb#X31sZmlsZQ%3D%3D?line=15'>16</a>\u001b[0m     \u001b[39mreturn\u001b[39;00m \u001b[39mTrue\u001b[39;00m\n\u001b[0;32m     <a href='vscode-notebook-cell:/d%3A/term9/intelligence/HW/4/hw.ipynb#X31sZmlsZQ%3D%3D?line=16'>17</a>\u001b[0m tab[r,c]\u001b[39m=\u001b[39m\u001b[39m0\u001b[39m\n",
      "    \u001b[1;31m[... skipping similar frames: search at line 15 (22 times)]\u001b[0m\n",
      "\u001b[1;32md:\\term9\\intelligence\\HW\\4\\hw.ipynb Cell 24\u001b[0m line \u001b[0;36msearch\u001b[1;34m(tab, constrain, selection)\u001b[0m\n\u001b[0;32m     <a href='vscode-notebook-cell:/d%3A/term9/intelligence/HW/4/hw.ipynb#X31sZmlsZQ%3D%3D?line=12'>13</a>\u001b[0m     tab[r,c]\u001b[39m=\u001b[39m\u001b[39m0\u001b[39m\n\u001b[0;32m     <a href='vscode-notebook-cell:/d%3A/term9/intelligence/HW/4/hw.ipynb#X31sZmlsZQ%3D%3D?line=13'>14</a>\u001b[0m     \u001b[39mcontinue\u001b[39;00m\n\u001b[1;32m---> <a href='vscode-notebook-cell:/d%3A/term9/intelligence/HW/4/hw.ipynb#X31sZmlsZQ%3D%3D?line=14'>15</a>\u001b[0m \u001b[39mif\u001b[39;00m search(tab,constrain,selection):\n\u001b[0;32m     <a href='vscode-notebook-cell:/d%3A/term9/intelligence/HW/4/hw.ipynb#X31sZmlsZQ%3D%3D?line=15'>16</a>\u001b[0m     \u001b[39mreturn\u001b[39;00m \u001b[39mTrue\u001b[39;00m\n\u001b[0;32m     <a href='vscode-notebook-cell:/d%3A/term9/intelligence/HW/4/hw.ipynb#X31sZmlsZQ%3D%3D?line=16'>17</a>\u001b[0m tab[r,c]\u001b[39m=\u001b[39m\u001b[39m0\u001b[39m\n",
      "\u001b[1;32md:\\term9\\intelligence\\HW\\4\\hw.ipynb Cell 24\u001b[0m line \u001b[0;36msearch\u001b[1;34m(tab, constrain, selection)\u001b[0m\n\u001b[0;32m      <a href='vscode-notebook-cell:/d%3A/term9/intelligence/HW/4/hw.ipynb#X31sZmlsZQ%3D%3D?line=0'>1</a>\u001b[0m \u001b[39mdef\u001b[39;00m \u001b[39msearch\u001b[39m(tab,constrain,selection):\n\u001b[1;32m----> <a href='vscode-notebook-cell:/d%3A/term9/intelligence/HW/4/hw.ipynb#X31sZmlsZQ%3D%3D?line=1'>2</a>\u001b[0m     r,c\u001b[39m=\u001b[39mselection(tab)\n\u001b[0;32m      <a href='vscode-notebook-cell:/d%3A/term9/intelligence/HW/4/hw.ipynb#X31sZmlsZQ%3D%3D?line=2'>3</a>\u001b[0m     \u001b[39mif\u001b[39;00m r\u001b[39m==\u001b[39m\u001b[39m-\u001b[39m\u001b[39m1\u001b[39m:\n\u001b[0;32m      <a href='vscode-notebook-cell:/d%3A/term9/intelligence/HW/4/hw.ipynb#X31sZmlsZQ%3D%3D?line=3'>4</a>\u001b[0m         \u001b[39mif\u001b[39;00m tab_solved(tab,constrain):\n",
      "\u001b[1;32md:\\term9\\intelligence\\HW\\4\\hw.ipynb Cell 24\u001b[0m line \u001b[0;36mselect_cell_random\u001b[1;34m(tab)\u001b[0m\n\u001b[0;32m      <a href='vscode-notebook-cell:/d%3A/term9/intelligence/HW/4/hw.ipynb#X31sZmlsZQ%3D%3D?line=3'>4</a>\u001b[0m \u001b[39melse\u001b[39;00m:\n\u001b[0;32m      <a href='vscode-notebook-cell:/d%3A/term9/intelligence/HW/4/hw.ipynb#X31sZmlsZQ%3D%3D?line=4'>5</a>\u001b[0m     \u001b[39mwhile\u001b[39;00m \u001b[39mTrue\u001b[39;00m:\n\u001b[1;32m----> <a href='vscode-notebook-cell:/d%3A/term9/intelligence/HW/4/hw.ipynb#X31sZmlsZQ%3D%3D?line=5'>6</a>\u001b[0m         a\u001b[39m=\u001b[39mnp\u001b[39m.\u001b[39;49mrandom\u001b[39m.\u001b[39;49mrandint(\u001b[39m0\u001b[39;49m,tab\u001b[39m.\u001b[39;49mshape[\u001b[39m0\u001b[39;49m],size\u001b[39m=\u001b[39;49m\u001b[39m1\u001b[39;49m)\n\u001b[0;32m      <a href='vscode-notebook-cell:/d%3A/term9/intelligence/HW/4/hw.ipynb#X31sZmlsZQ%3D%3D?line=6'>7</a>\u001b[0m         b\u001b[39m=\u001b[39mnp\u001b[39m.\u001b[39mrandom\u001b[39m.\u001b[39mrandint(\u001b[39m0\u001b[39m,tab\u001b[39m.\u001b[39mshape[\u001b[39m1\u001b[39m],size\u001b[39m=\u001b[39m\u001b[39m1\u001b[39m)\n\u001b[0;32m      <a href='vscode-notebook-cell:/d%3A/term9/intelligence/HW/4/hw.ipynb#X31sZmlsZQ%3D%3D?line=7'>8</a>\u001b[0m         \u001b[39mif\u001b[39;00m tab[a,b]\u001b[39m==\u001b[39m\u001b[39m0\u001b[39m:\n",
      "\u001b[1;31mKeyboardInterrupt\u001b[0m: "
     ]
    }
   ],
   "source": [
    "tab2=tab.copy()\n",
    "search(tab2,constrain,selection=select_cell_random)"
   ]
  },
  {
   "cell_type": "code",
   "execution_count": 17,
   "metadata": {},
   "outputs": [
    {
     "data": {
      "text/plain": [
       "array([[-1, -1, -1, -1, -1, -1, -1, -1],\n",
       "       [-1, -1,  2,  0,  4, -1,  0,  1],\n",
       "       [-1,  0,  0,  2,  3,  0,  1,  4],\n",
       "       [-1,  3,  4, -1,  2,  0, -1, -1],\n",
       "       [-1, -1,  1,  3, -1,  0,  3, -1],\n",
       "       [-1, -1, -1,  2,  1, -1,  1,  3],\n",
       "       [-1,  1,  3,  0,  0,  0,  2,  4],\n",
       "       [-1,  3,  1, -1,  3,  2,  0, -1]])"
      ]
     },
     "execution_count": 17,
     "metadata": {},
     "output_type": "execute_result"
    }
   ],
   "source": [
    "tab2"
   ]
  },
  {
   "cell_type": "markdown",
   "metadata": {},
   "source": [
    "# Intelligent agent"
   ]
  },
  {
   "cell_type": "code",
   "execution_count": 30,
   "metadata": {},
   "outputs": [],
   "source": [
    "def select_cell_intelligent(tab,constrain=constrain):\n",
    "    if not 0 in tab:\n",
    "        return -1,-1\n",
    "    m=select_cell(tab)\n",
    "    c_m=[]\n",
    "    cv_m=search_constrain_v(constrain,m[0],m[1])\n",
    "    ch_m=search_constrain_h(constrain,m[0],m[1])\n",
    "    if type(cv_m)==bool and type(ch_m)==bool:\n",
    "        print('dfsdf',m)\n",
    "    if type(cv_m)==bool or (not type(ch_m)==bool and ch_m[4]<cv_m[4]):\n",
    "        c_m=ch_m.copy()\n",
    "    if type(ch_m)==bool or(not type(cv_m)==bool and  cv_m[4]<=ch_m[4]):\n",
    "        c_m=cv_m.copy()\n",
    "    if not 0 in tab:\n",
    "        return -1,-1\n",
    "    else:\n",
    "        for i in range(tab.shape[0]):\n",
    "            for j in range(tab.shape[1]):\n",
    "                if tab[i,j]==0:\n",
    "                    cv=search_constrain_v(constrain,i,j)\n",
    "                    ch=search_constrain_h(constrain,i,j)\n",
    "                    if ((not type(cv)==bool)) and cv[4]<c_m[4]:\n",
    "                        m=(i,j)\n",
    "                        c_m=cv.copy()\n",
    "                    if ((not type(ch)==bool)  and ch[4]<c_m[4]):\n",
    "                        m=(i,j)\n",
    "                        c_m=ch.copy()\n",
    "    return m\n",
    "                    "
   ]
  },
  {
   "cell_type": "code",
   "execution_count": 31,
   "metadata": {},
   "outputs": [
    {
     "ename": "KeyboardInterrupt",
     "evalue": "",
     "output_type": "error",
     "traceback": [
      "\u001b[1;31m---------------------------------------------------------------------------\u001b[0m",
      "\u001b[1;31mKeyboardInterrupt\u001b[0m                         Traceback (most recent call last)",
      "\u001b[1;32md:\\term9\\intelligence\\HW\\4\\hw.ipynb Cell 26\u001b[0m line \u001b[0;36m<cell line: 2>\u001b[1;34m()\u001b[0m\n\u001b[0;32m      <a href='vscode-notebook-cell:/d%3A/term9/intelligence/HW/4/hw.ipynb#X34sZmlsZQ%3D%3D?line=0'>1</a>\u001b[0m tab3\u001b[39m=\u001b[39mtab\u001b[39m.\u001b[39mcopy()\n\u001b[1;32m----> <a href='vscode-notebook-cell:/d%3A/term9/intelligence/HW/4/hw.ipynb#X34sZmlsZQ%3D%3D?line=1'>2</a>\u001b[0m search(tab3,constrain,selection\u001b[39m=\u001b[39;49mselect_cell_intelligent)\n",
      "\u001b[1;32md:\\term9\\intelligence\\HW\\4\\hw.ipynb Cell 26\u001b[0m line \u001b[0;36msearch\u001b[1;34m(tab, constrain, selection)\u001b[0m\n\u001b[0;32m     <a href='vscode-notebook-cell:/d%3A/term9/intelligence/HW/4/hw.ipynb#X34sZmlsZQ%3D%3D?line=12'>13</a>\u001b[0m     tab[r,c]\u001b[39m=\u001b[39m\u001b[39m0\u001b[39m\n\u001b[0;32m     <a href='vscode-notebook-cell:/d%3A/term9/intelligence/HW/4/hw.ipynb#X34sZmlsZQ%3D%3D?line=13'>14</a>\u001b[0m     \u001b[39mcontinue\u001b[39;00m\n\u001b[1;32m---> <a href='vscode-notebook-cell:/d%3A/term9/intelligence/HW/4/hw.ipynb#X34sZmlsZQ%3D%3D?line=14'>15</a>\u001b[0m \u001b[39mif\u001b[39;00m search(tab,constrain,selection):\n\u001b[0;32m     <a href='vscode-notebook-cell:/d%3A/term9/intelligence/HW/4/hw.ipynb#X34sZmlsZQ%3D%3D?line=15'>16</a>\u001b[0m     \u001b[39mreturn\u001b[39;00m \u001b[39mTrue\u001b[39;00m\n\u001b[0;32m     <a href='vscode-notebook-cell:/d%3A/term9/intelligence/HW/4/hw.ipynb#X34sZmlsZQ%3D%3D?line=16'>17</a>\u001b[0m tab[r,c]\u001b[39m=\u001b[39m\u001b[39m0\u001b[39m\n",
      "\u001b[1;32md:\\term9\\intelligence\\HW\\4\\hw.ipynb Cell 26\u001b[0m line \u001b[0;36msearch\u001b[1;34m(tab, constrain, selection)\u001b[0m\n\u001b[0;32m     <a href='vscode-notebook-cell:/d%3A/term9/intelligence/HW/4/hw.ipynb#X34sZmlsZQ%3D%3D?line=12'>13</a>\u001b[0m     tab[r,c]\u001b[39m=\u001b[39m\u001b[39m0\u001b[39m\n\u001b[0;32m     <a href='vscode-notebook-cell:/d%3A/term9/intelligence/HW/4/hw.ipynb#X34sZmlsZQ%3D%3D?line=13'>14</a>\u001b[0m     \u001b[39mcontinue\u001b[39;00m\n\u001b[1;32m---> <a href='vscode-notebook-cell:/d%3A/term9/intelligence/HW/4/hw.ipynb#X34sZmlsZQ%3D%3D?line=14'>15</a>\u001b[0m \u001b[39mif\u001b[39;00m search(tab,constrain,selection):\n\u001b[0;32m     <a href='vscode-notebook-cell:/d%3A/term9/intelligence/HW/4/hw.ipynb#X34sZmlsZQ%3D%3D?line=15'>16</a>\u001b[0m     \u001b[39mreturn\u001b[39;00m \u001b[39mTrue\u001b[39;00m\n\u001b[0;32m     <a href='vscode-notebook-cell:/d%3A/term9/intelligence/HW/4/hw.ipynb#X34sZmlsZQ%3D%3D?line=16'>17</a>\u001b[0m tab[r,c]\u001b[39m=\u001b[39m\u001b[39m0\u001b[39m\n",
      "    \u001b[1;31m[... skipping similar frames: search at line 15 (31 times)]\u001b[0m\n",
      "\u001b[1;32md:\\term9\\intelligence\\HW\\4\\hw.ipynb Cell 26\u001b[0m line \u001b[0;36msearch\u001b[1;34m(tab, constrain, selection)\u001b[0m\n\u001b[0;32m     <a href='vscode-notebook-cell:/d%3A/term9/intelligence/HW/4/hw.ipynb#X34sZmlsZQ%3D%3D?line=12'>13</a>\u001b[0m     tab[r,c]\u001b[39m=\u001b[39m\u001b[39m0\u001b[39m\n\u001b[0;32m     <a href='vscode-notebook-cell:/d%3A/term9/intelligence/HW/4/hw.ipynb#X34sZmlsZQ%3D%3D?line=13'>14</a>\u001b[0m     \u001b[39mcontinue\u001b[39;00m\n\u001b[1;32m---> <a href='vscode-notebook-cell:/d%3A/term9/intelligence/HW/4/hw.ipynb#X34sZmlsZQ%3D%3D?line=14'>15</a>\u001b[0m \u001b[39mif\u001b[39;00m search(tab,constrain,selection):\n\u001b[0;32m     <a href='vscode-notebook-cell:/d%3A/term9/intelligence/HW/4/hw.ipynb#X34sZmlsZQ%3D%3D?line=15'>16</a>\u001b[0m     \u001b[39mreturn\u001b[39;00m \u001b[39mTrue\u001b[39;00m\n\u001b[0;32m     <a href='vscode-notebook-cell:/d%3A/term9/intelligence/HW/4/hw.ipynb#X34sZmlsZQ%3D%3D?line=16'>17</a>\u001b[0m tab[r,c]\u001b[39m=\u001b[39m\u001b[39m0\u001b[39m\n",
      "\u001b[1;32md:\\term9\\intelligence\\HW\\4\\hw.ipynb Cell 26\u001b[0m line \u001b[0;36msearch\u001b[1;34m(tab, constrain, selection)\u001b[0m\n\u001b[0;32m     <a href='vscode-notebook-cell:/d%3A/term9/intelligence/HW/4/hw.ipynb#X34sZmlsZQ%3D%3D?line=9'>10</a>\u001b[0m \u001b[39mfor\u001b[39;00m i \u001b[39min\u001b[39;00m \u001b[39mrange\u001b[39m(\u001b[39m1\u001b[39m,\u001b[39m9\u001b[39m):\n\u001b[0;32m     <a href='vscode-notebook-cell:/d%3A/term9/intelligence/HW/4/hw.ipynb#X34sZmlsZQ%3D%3D?line=10'>11</a>\u001b[0m     tab[r,c]\u001b[39m=\u001b[39mi\n\u001b[1;32m---> <a href='vscode-notebook-cell:/d%3A/term9/intelligence/HW/4/hw.ipynb#X34sZmlsZQ%3D%3D?line=11'>12</a>\u001b[0m     \u001b[39mif\u001b[39;00m \u001b[39mnot\u001b[39;00m(constrain_hope(tab,c1) \u001b[39mand\u001b[39;00m constrain_hope(tab,c2)):\n\u001b[0;32m     <a href='vscode-notebook-cell:/d%3A/term9/intelligence/HW/4/hw.ipynb#X34sZmlsZQ%3D%3D?line=12'>13</a>\u001b[0m         tab[r,c]\u001b[39m=\u001b[39m\u001b[39m0\u001b[39m\n\u001b[0;32m     <a href='vscode-notebook-cell:/d%3A/term9/intelligence/HW/4/hw.ipynb#X34sZmlsZQ%3D%3D?line=13'>14</a>\u001b[0m         \u001b[39mcontinue\u001b[39;00m\n",
      "\u001b[1;32md:\\term9\\intelligence\\HW\\4\\hw.ipynb Cell 26\u001b[0m line \u001b[0;36mconstrain_hope\u001b[1;34m(table, constrain)\u001b[0m\n\u001b[0;32m      <a href='vscode-notebook-cell:/d%3A/term9/intelligence/HW/4/hw.ipynb#X34sZmlsZQ%3D%3D?line=8'>9</a>\u001b[0m \u001b[39melse\u001b[39;00m:\n\u001b[0;32m     <a href='vscode-notebook-cell:/d%3A/term9/intelligence/HW/4/hw.ipynb#X34sZmlsZQ%3D%3D?line=9'>10</a>\u001b[0m     r\u001b[39m=\u001b[39mtable[i,j\u001b[39m+\u001b[39m\u001b[39m1\u001b[39m:j\u001b[39m+\u001b[39m\u001b[39m1\u001b[39m\u001b[39m+\u001b[39mn]\n\u001b[1;32m---> <a href='vscode-notebook-cell:/d%3A/term9/intelligence/HW/4/hw.ipynb#X34sZmlsZQ%3D%3D?line=10'>11</a>\u001b[0m \u001b[39mif\u001b[39;00m (np\u001b[39m.\u001b[39;49munique(r[r\u001b[39m!=\u001b[39;49m\u001b[39m0\u001b[39;49m])\u001b[39m.\u001b[39msize)\u001b[39m<\u001b[39m(r[r\u001b[39m!=\u001b[39m\u001b[39m0\u001b[39m]\u001b[39m.\u001b[39msize):\n\u001b[0;32m     <a href='vscode-notebook-cell:/d%3A/term9/intelligence/HW/4/hw.ipynb#X34sZmlsZQ%3D%3D?line=11'>12</a>\u001b[0m     \u001b[39mreturn\u001b[39;00m \u001b[39mFalse\u001b[39;00m\n\u001b[0;32m     <a href='vscode-notebook-cell:/d%3A/term9/intelligence/HW/4/hw.ipynb#X34sZmlsZQ%3D%3D?line=12'>13</a>\u001b[0m \u001b[39mif\u001b[39;00m \u001b[39msum\u001b[39m\u001b[39m<\u001b[39mnp\u001b[39m.\u001b[39msum(r):\n",
      "File \u001b[1;32m<__array_function__ internals>:180\u001b[0m, in \u001b[0;36munique\u001b[1;34m(*args, **kwargs)\u001b[0m\n",
      "File \u001b[1;32mc:\\Users\\ACER\\AppData\\Local\\Programs\\Python\\Python310\\lib\\site-packages\\numpy\\lib\\arraysetops.py:274\u001b[0m, in \u001b[0;36munique\u001b[1;34m(ar, return_index, return_inverse, return_counts, axis, equal_nan)\u001b[0m\n\u001b[0;32m    272\u001b[0m ar \u001b[39m=\u001b[39m np\u001b[39m.\u001b[39masanyarray(ar)\n\u001b[0;32m    273\u001b[0m \u001b[39mif\u001b[39;00m axis \u001b[39mis\u001b[39;00m \u001b[39mNone\u001b[39;00m:\n\u001b[1;32m--> 274\u001b[0m     ret \u001b[39m=\u001b[39m _unique1d(ar, return_index, return_inverse, return_counts, \n\u001b[0;32m    275\u001b[0m                     equal_nan\u001b[39m=\u001b[39;49mequal_nan)\n\u001b[0;32m    276\u001b[0m     \u001b[39mreturn\u001b[39;00m _unpack_tuple(ret)\n\u001b[0;32m    278\u001b[0m \u001b[39m# axis was specified and not None\u001b[39;00m\n",
      "File \u001b[1;32mc:\\Users\\ACER\\AppData\\Local\\Programs\\Python\\Python310\\lib\\site-packages\\numpy\\lib\\arraysetops.py:355\u001b[0m, in \u001b[0;36m_unique1d\u001b[1;34m(ar, return_index, return_inverse, return_counts, equal_nan)\u001b[0m\n\u001b[0;32m    352\u001b[0m     mask[\u001b[39m1\u001b[39m:] \u001b[39m=\u001b[39m aux[\u001b[39m1\u001b[39m:] \u001b[39m!=\u001b[39m aux[:\u001b[39m-\u001b[39m\u001b[39m1\u001b[39m]\n\u001b[0;32m    354\u001b[0m ret \u001b[39m=\u001b[39m (aux[mask],)\n\u001b[1;32m--> 355\u001b[0m \u001b[39mif\u001b[39;00m return_index:\n\u001b[0;32m    356\u001b[0m     ret \u001b[39m+\u001b[39m\u001b[39m=\u001b[39m (perm[mask],)\n\u001b[0;32m    357\u001b[0m \u001b[39mif\u001b[39;00m return_inverse:\n",
      "\u001b[1;31mKeyboardInterrupt\u001b[0m: "
     ]
    }
   ],
   "source": [
    "tab3=tab.copy()\n",
    "search(tab3,constrain,selection=select_cell_intelligent)"
   ]
  },
  {
   "cell_type": "code",
   "execution_count": 32,
   "metadata": {},
   "outputs": [
    {
     "data": {
      "text/plain": [
       "array([[-1, -1, -1, -1, -1, -1, -1, -1],\n",
       "       [-1, -1,  8,  1,  3, -1,  1,  2],\n",
       "       [-1,  5,  0,  2,  7,  4,  3,  7],\n",
       "       [-1,  1,  2, -1,  1,  2, -1, -1],\n",
       "       [-1, -1,  4,  6, -1,  1,  2, -1],\n",
       "       [-1, -1, -1,  2,  1, -1,  3,  1],\n",
       "       [-1,  3,  6,  8,  2,  1,  4,  5],\n",
       "       [-1,  1,  8, -1,  3,  2,  1, -1]])"
      ]
     },
     "execution_count": 32,
     "metadata": {},
     "output_type": "execute_result"
    }
   ],
   "source": [
    "tab3"
   ]
  }
 ],
 "metadata": {
  "kernelspec": {
   "display_name": "Python 3",
   "language": "python",
   "name": "python3"
  },
  "language_info": {
   "codemirror_mode": {
    "name": "ipython",
    "version": 3
   },
   "file_extension": ".py",
   "mimetype": "text/x-python",
   "name": "python",
   "nbconvert_exporter": "python",
   "pygments_lexer": "ipython3",
   "version": "3.10.5"
  }
 },
 "nbformat": 4,
 "nbformat_minor": 2
}
