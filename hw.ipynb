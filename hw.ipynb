{
 "cells": [
  {
   "cell_type": "markdown",
   "metadata": {},
   "source": [
    "# Table\n",
    "Construction of m*n game board saved in tab numpy aray ."
   ]
  },
  {
   "cell_type": "code",
   "execution_count": 1,
   "metadata": {},
   "outputs": [],
   "source": [
    "import numpy as np\n",
    "import pandas as pd\n",
    "# hardness='easy'\n",
    "hardness='veryeasy'\n",
    "# hardness='medium'\n",
    "# hardness='hard'\n",
    "# hardness='expert'\n",
    "df=pd.read_csv(hardness+'/tab.csv')\n",
    "tab=np.array(df.values.tolist())\n",
    "df=pd.read_csv(hardness+'/constrain.csv')\n",
    "constrain=df.values.tolist()"
   ]
  },
  {
   "cell_type": "markdown",
   "metadata": {},
   "source": [
    "Table display"
   ]
  },
  {
   "cell_type": "code",
   "execution_count": 2,
   "metadata": {},
   "outputs": [
    {
     "data": {
      "text/plain": [
       "array([[-1, -1, -1, -1, -1],\n",
       "       [-1, -1,  0,  0,  0],\n",
       "       [-1,  0,  0,  0,  0],\n",
       "       [-1,  0,  0, -1,  0],\n",
       "       [-1, -1,  0,  0, -1]])"
      ]
     },
     "execution_count": 2,
     "metadata": {},
     "output_type": "execute_result"
    }
   ],
   "source": [
    "tab"
   ]
  },
  {
   "cell_type": "markdown",
   "metadata": {},
   "source": [
    "constrain saved in a list named as constrain ."
   ]
  },
  {
   "cell_type": "code",
   "execution_count": 3,
   "metadata": {},
   "outputs": [
    {
     "data": {
      "text/plain": [
       "[[1, 1, 3, 0, 12],\n",
       " [3, 0, 2, 0, 3],\n",
       " [4, 1, 2, 0, 17],\n",
       " [4, 4, 2, 0, 10],\n",
       " [0, 2, 4, 1, 20],\n",
       " [0, 3, 2, 1, 3],\n",
       " [0, 4, 3, 1, 23],\n",
       " [1, 1, 2, 1, 5],\n",
       " [3, 3, 1, 1, 8],\n",
       " [3, 3, 1, 0, 6],\n",
       " [2, 0, 4, 0, 21]]"
      ]
     },
     "execution_count": 3,
     "metadata": {},
     "output_type": "execute_result"
    }
   ],
   "source": [
    "constrain"
   ]
  },
  {
   "cell_type": "markdown",
   "metadata": {},
   "source": [
    "checking if table hoped to be solved ?"
   ]
  },
  {
   "cell_type": "code",
   "execution_count": 4,
   "metadata": {},
   "outputs": [],
   "source": [
    "def constrain_hope(table,constrain):\n",
    "    if constrain==True:\n",
    "        return True\n",
    "    (i,j)=(constrain[0],constrain[1])\n",
    "    n=constrain[2]\n",
    "    sum=constrain[4]\n",
    "    if constrain[3]:\n",
    "        r=table[i+1:i+1+n,j]      \n",
    "    else:\n",
    "        r=table[i,j+1:j+1+n]\n",
    "    if (np.unique(r[r!=0]).size)<(r[r!=0].size):\n",
    "        return False\n",
    "    if sum<np.sum(r):\n",
    "        return False\n",
    "    return True"
   ]
  },
  {
   "cell_type": "markdown",
   "metadata": {},
   "source": [
    "checking if is completely solved ?"
   ]
  },
  {
   "cell_type": "code",
   "execution_count": 5,
   "metadata": {},
   "outputs": [],
   "source": [
    "def tab_solved(table,constrain):\n",
    "   for c in constrain:\n",
    "      (i,j)=(c[0],c[1])\n",
    "      n=c[2]\n",
    "      sum=c[4]\n",
    "      if c[3]:\n",
    "         r=table[i+1:i+1+n,j]      \n",
    "      else:\n",
    "         r=table[i,j+1:j+1+n]\n",
    "      if not(sum==np.sum(r)):\n",
    "         return False\n",
    "      return True"
   ]
  },
  {
   "cell_type": "markdown",
   "metadata": {},
   "source": [
    "searching a cell constrain in raow and column "
   ]
  },
  {
   "cell_type": "code",
   "execution_count": 6,
   "metadata": {},
   "outputs": [],
   "source": [
    "def search_constrain_v(constrain,x,y):\n",
    "    for i in constrain:\n",
    "        if i[3]==True and i[1]==y and x>i[0] and x<=i[0]+i[2]:\n",
    "            return i\n",
    "    return True\n",
    "def search_constrain_h(constrain,x,y):\n",
    "    for i in constrain:\n",
    "        if i[3]==False and i[0]==x and y>i[1] and y<=i[1]+i[2]:\n",
    "            return i\n",
    "    return True"
   ]
  },
  {
   "cell_type": "markdown",
   "metadata": {},
   "source": [
    "# search\n",
    "The below function is to search in state space ."
   ]
  },
  {
   "cell_type": "code",
   "execution_count": 7,
   "metadata": {},
   "outputs": [],
   "source": [
    "def search(tab,constrain,selection):\n",
    "    r,c=selection(tab)\n",
    "    if r==-1:\n",
    "        if tab_solved(tab,constrain):\n",
    "            return True\n",
    "        else :\n",
    "            return False\n",
    "    c1=search_constrain_v(constrain,r,c)\n",
    "    c2=search_constrain_h(constrain,r,c)\n",
    "    for i in range(1,9):\n",
    "        tab[r,c]=i\n",
    "        if not(constrain_hope(tab,c1) and constrain_hope(tab,c2)):\n",
    "            tab[r,c]=0\n",
    "            continue\n",
    "        if search(tab,constrain,selection):\n",
    "            return True\n",
    "        tab[r,c]=0\n",
    "    return False"
   ]
  },
  {
   "cell_type": "markdown",
   "metadata": {},
   "source": [
    "# primary agent\n",
    "selection in order :"
   ]
  },
  {
   "cell_type": "code",
   "execution_count": 8,
   "metadata": {},
   "outputs": [],
   "source": [
    "def select_cell(tab):\n",
    "    if not 0 in tab:\n",
    "        return -1,-1\n",
    "    else:\n",
    "        for i in range(tab.shape[0]):\n",
    "            for j in range(tab.shape[1]):\n",
    "                if tab[i,j]==0:\n",
    "                    return i,j"
   ]
  },
  {
   "cell_type": "code",
   "execution_count": 9,
   "metadata": {},
   "outputs": [
    {
     "data": {
      "text/plain": [
       "True"
      ]
     },
     "execution_count": 9,
     "metadata": {},
     "output_type": "execute_result"
    }
   ],
   "source": [
    "tab1=tab.copy()\n",
    "search(tab1,constrain,selection=select_cell)"
   ]
  },
  {
   "cell_type": "code",
   "execution_count": 10,
   "metadata": {},
   "outputs": [
    {
     "data": {
      "text/plain": [
       "array([[-1, -1, -1, -1, -1],\n",
       "       [-1, -1,  3,  1,  8],\n",
       "       [-1,  1,  4,  2,  3],\n",
       "       [-1,  2,  1, -1,  1],\n",
       "       [-1, -1,  2,  1, -1]])"
      ]
     },
     "execution_count": 10,
     "metadata": {},
     "output_type": "execute_result"
    }
   ],
   "source": [
    "tab1"
   ]
  },
  {
   "cell_type": "markdown",
   "metadata": {},
   "source": [
    "selction in random"
   ]
  },
  {
   "cell_type": "code",
   "execution_count": 11,
   "metadata": {},
   "outputs": [],
   "source": [
    "def select_cell_random(tab):\n",
    "    if not 0 in tab:\n",
    "        return -1,-1\n",
    "    else:\n",
    "        while True:\n",
    "            a=np.random.randint(0,tab.shape[0],size=1)\n",
    "            b=np.random.randint(0,tab.shape[1],size=1)\n",
    "            if tab[a,b]==0:\n",
    "                return a,b"
   ]
  },
  {
   "cell_type": "code",
   "execution_count": 18,
   "metadata": {},
   "outputs": [
    {
     "data": {
      "text/plain": [
       "True"
      ]
     },
     "execution_count": 18,
     "metadata": {},
     "output_type": "execute_result"
    }
   ],
   "source": [
    "tab2=tab.copy()\n",
    "search(tab2,constrain,selection=select_cell_random)"
   ]
  },
  {
   "cell_type": "code",
   "execution_count": 19,
   "metadata": {},
   "outputs": [
    {
     "data": {
      "text/plain": [
       "array([[-1, -1, -1, -1, -1],\n",
       "       [-1, -1,  3,  2,  7],\n",
       "       [-1,  3,  4,  1,  2],\n",
       "       [-1,  1,  2, -1,  1],\n",
       "       [-1, -1,  1,  2, -1]])"
      ]
     },
     "execution_count": 19,
     "metadata": {},
     "output_type": "execute_result"
    }
   ],
   "source": [
    "tab2"
   ]
  },
  {
   "cell_type": "markdown",
   "metadata": {},
   "source": [
    "# Intelligent agent"
   ]
  },
  {
   "cell_type": "code",
   "execution_count": 14,
   "metadata": {},
   "outputs": [],
   "source": [
    "def select_cell_intelligent(tab,constrain=constrain):\n",
    "    if not 0 in tab:\n",
    "        return -1,-1\n",
    "    m=select_cell(tab)\n",
    "    c_m=[]\n",
    "    cv_m=search_constrain_v(constrain,m[0],m[1])\n",
    "    ch_m=search_constrain_h(constrain,m[0],m[1])\n",
    "    if type(cv_m)==bool and type(ch_m)==bool:\n",
    "        print('dfsdf',m)\n",
    "    if type(cv_m)==bool or (not type(ch_m)==bool and ch_m[4]<cv_m[4]):\n",
    "        c_m=ch_m.copy()\n",
    "    if type(ch_m)==bool or(not type(cv_m)==bool and  cv_m[4]<=ch_m[4]):\n",
    "        c_m=cv_m.copy()\n",
    "    if not 0 in tab:\n",
    "        return -1,-1\n",
    "    else:\n",
    "        for i in range(tab.shape[0]):\n",
    "            for j in range(tab.shape[1]):\n",
    "                if tab[i,j]==0:\n",
    "                    cv=search_constrain_v(constrain,i,j)\n",
    "                    ch=search_constrain_h(constrain,i,j)\n",
    "                    if ((not type(cv)==bool)) and cv[4]<c_m[4]:\n",
    "                        m=(i,j)\n",
    "                        c_m=cv.copy()\n",
    "                    if ((not type(ch)==bool)  and ch[4]<c_m[4]):\n",
    "                        m=(i,j)\n",
    "                        c_m=ch.copy()\n",
    "    return m\n",
    "                    "
   ]
  },
  {
   "cell_type": "code",
   "execution_count": 15,
   "metadata": {},
   "outputs": [
    {
     "data": {
      "text/plain": [
       "True"
      ]
     },
     "execution_count": 15,
     "metadata": {},
     "output_type": "execute_result"
    }
   ],
   "source": [
    "tab3=tab.copy()\n",
    "search(tab3,constrain,selection=select_cell_intelligent)"
   ]
  },
  {
   "cell_type": "code",
   "execution_count": 16,
   "metadata": {},
   "outputs": [
    {
     "data": {
      "text/plain": [
       "array([[-1, -1, -1, -1, -1],\n",
       "       [-1, -1,  3,  1,  8],\n",
       "       [-1,  3,  1,  2,  4],\n",
       "       [-1,  1,  2, -1,  1],\n",
       "       [-1, -1,  4,  1, -1]])"
      ]
     },
     "execution_count": 16,
     "metadata": {},
     "output_type": "execute_result"
    }
   ],
   "source": [
    "tab3"
   ]
  }
 ],
 "metadata": {
  "kernelspec": {
   "display_name": "Python 3",
   "language": "python",
   "name": "python3"
  },
  "language_info": {
   "codemirror_mode": {
    "name": "ipython",
    "version": 3
   },
   "file_extension": ".py",
   "mimetype": "text/x-python",
   "name": "python",
   "nbconvert_exporter": "python",
   "pygments_lexer": "ipython3",
   "version": "3.10.5"
  }
 },
 "nbformat": 4,
 "nbformat_minor": 2
}
