{
 "cells": [
  {
   "cell_type": "code",
   "execution_count": 19,
   "metadata": {},
   "outputs": [],
   "source": [
    "import numpy as np\n",
    "m=9\n",
    "n=9\n",
    "tab=np.zeros([m,n],dtype=int)\n",
    "obs=np.zeros([m,n],dtype=int)\n",
    "obs[:,0]=1\n",
    "obs[0,3:n-2]=1\n",
    "obs[5:7,3:5]=1\n",
    "obs[1:3,6]=1\n",
    "tab[obs==1]=-1"
   ]
  },
  {
   "cell_type": "code",
   "execution_count": 20,
   "metadata": {},
   "outputs": [
    {
     "data": {
      "text/plain": [
       "array([[-1,  0,  0, -1, -1, -1, -1,  0,  0],\n",
       "       [-1,  0,  0,  0,  0,  0, -1,  0,  0],\n",
       "       [-1,  0,  0,  0,  0,  0, -1,  0,  0],\n",
       "       [-1,  0,  0,  0,  0,  0,  0,  0,  0],\n",
       "       [-1,  0,  0,  0,  0,  0,  0,  0,  0],\n",
       "       [-1,  0,  0, -1, -1,  0,  0,  0,  0],\n",
       "       [-1,  0,  0, -1, -1,  0,  0,  0,  0],\n",
       "       [-1,  0,  0,  0,  0,  0,  0,  0,  0],\n",
       "       [-1,  0,  0,  0,  0,  0,  0,  0,  0]])"
      ]
     },
     "execution_count": 20,
     "metadata": {},
     "output_type": "execute_result"
    }
   ],
   "source": [
    "tab"
   ]
  }
 ],
 "metadata": {
  "kernelspec": {
   "display_name": "Python 3",
   "language": "python",
   "name": "python3"
  },
  "language_info": {
   "codemirror_mode": {
    "name": "ipython",
    "version": 3
   },
   "file_extension": ".py",
   "mimetype": "text/x-python",
   "name": "python",
   "nbconvert_exporter": "python",
   "pygments_lexer": "ipython3",
   "version": "3.10.5"
  }
 },
 "nbformat": 4,
 "nbformat_minor": 2
}
