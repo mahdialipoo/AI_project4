{
 "cells": [
  {
   "cell_type": "code",
   "execution_count": 52,
   "metadata": {},
   "outputs": [],
   "source": [
    "import numpy as np\n",
    "m=5\n",
    "n=5\n",
    "tab=np.zeros([m,n],dtype=int)\n",
    "obs=np.zeros([m,n],dtype=int)\n",
    "obs[1:,0]=1\n",
    "obs[0,3:n-2]=1\n",
    "obs[2:3,3]=1\n",
    "obs[0,0:5]=1\n",
    "obs[2,4]=1\n",
    "obs[4,1:3]=1\n",
    "tab[obs==1]=-1"
   ]
  },
  {
   "cell_type": "code",
   "execution_count": 49,
   "metadata": {},
   "outputs": [
    {
     "data": {
      "text/plain": [
       "array([[-1, -1, -1, -1, -1],\n",
       "       [-1,  0,  0,  0,  0],\n",
       "       [-1,  0,  0, -1, -1],\n",
       "       [-1,  0,  0,  0,  0],\n",
       "       [-1, -1, -1,  0,  0]])"
      ]
     },
     "execution_count": 49,
     "metadata": {},
     "output_type": "execute_result"
    }
   ],
   "source": [
    "tab"
   ]
  },
  {
   "cell_type": "code",
   "execution_count": 32,
   "metadata": {},
   "outputs": [],
   "source": [
    "constrain=[]\n",
    "c=[[1,0],2,False,6] #[[i,j],n,(True is vertical ) or (False is herozintal),sum]\n",
    "constrain.append(c)\n",
    "c=[[2,3],2,True,5]\n",
    "constrain.append(c)"
   ]
  },
  {
   "cell_type": "code",
   "execution_count": 33,
   "metadata": {},
   "outputs": [],
   "source": [
    "def constrain_hope(table,constrain):\n",
    "    if constrain==True:\n",
    "        return True\n",
    "    (i,j)=(constrain[0][0],constrain[0][1])\n",
    "    n=constrain[1]\n",
    "    sum=constrain[3]\n",
    "    if constrain[2]:\n",
    "        r=table[i+1:i+1+n,j]      \n",
    "    else:\n",
    "        r=table[i,j+1:j+1+n]\n",
    "    if (np.unique(r[r!=0]).size)<(r[r!=0].size):\n",
    "        return False\n",
    "    if sum<np.sum(r):\n",
    "        return False\n",
    "    return True"
   ]
  },
  {
   "cell_type": "code",
   "execution_count": 34,
   "metadata": {},
   "outputs": [],
   "source": [
    "def tab_solved(table,constrain):\n",
    "   for c in constrain:\n",
    "      (i,j)=(c[0][0],c[0][1])\n",
    "      n=c[1]\n",
    "      sum=c[3]\n",
    "      if c[2]:\n",
    "         r=table[i+1:i+1+n,j]      \n",
    "      else:\n",
    "         r=table[i,j+1:j+1+n]\n",
    "      if not(sum==np.sum(r)):\n",
    "         return False\n",
    "      return True"
   ]
  },
  {
   "cell_type": "code",
   "execution_count": 35,
   "metadata": {},
   "outputs": [],
   "source": [
    "(i,j)=(c[0][0],c[0][1])\n",
    "n=c[1]\n",
    "sum=c[3]\n",
    "if c[2]:\n",
    "    r=tab[i+1:i+1+n,j]       \n",
    "else:\n",
    "    r=tab[i,j+1:j+1+n]"
   ]
  },
  {
   "cell_type": "code",
   "execution_count": 36,
   "metadata": {},
   "outputs": [],
   "source": [
    "def search_constrain_v(constrain,x,y):\n",
    "    for i in constrain:\n",
    "        if i[2]==True and i[0][1]==y and x>i[0][0] and x<=i[0][0]+i[1]:\n",
    "            return i\n",
    "    return True\n",
    "def search_constrain_h(constrain,x,y):\n",
    "    for i in constrain:\n",
    "        if i[2]==False and i[0][0]==x and y>i[0][1] and y<=i[0][1]+i[1]:\n",
    "            return i\n",
    "    return True"
   ]
  },
  {
   "cell_type": "code",
   "execution_count": 37,
   "metadata": {},
   "outputs": [
    {
     "data": {
      "text/plain": [
       "True"
      ]
     },
     "execution_count": 37,
     "metadata": {},
     "output_type": "execute_result"
    }
   ],
   "source": [
    "search_constrain_h(constrain,5,8)"
   ]
  },
  {
   "cell_type": "code",
   "execution_count": 38,
   "metadata": {},
   "outputs": [],
   "source": [
    "def select_cell(tab):\n",
    "    if not 0 in tab:\n",
    "        return -1,-1\n",
    "    else:\n",
    "        for i in range(tab.shape[0]):\n",
    "            for j in range(tab.shape[1]):\n",
    "                if tab[i,j]==0:\n",
    "                    return i,j\n",
    "    return r,c"
   ]
  },
  {
   "cell_type": "code",
   "execution_count": 53,
   "metadata": {},
   "outputs": [],
   "source": [
    "def search(tab,constrain):\n",
    "    r,c=select_cell(tab)\n",
    "    if r==-1:\n",
    "        if tab_solved(tab,constrain):\n",
    "            return True\n",
    "        else :\n",
    "            return False\n",
    "    c1=search_constrain_v(constrain,r,c)\n",
    "    c2=search_constrain_h(constrain,r,c)\n",
    "    for i in range(1,5):\n",
    "        tab[r,c]=i\n",
    "        if not(constrain_hope(tab,c1) and constrain_hope(tab,c2)):\n",
    "            tab[r,c]=0\n",
    "            continue\n",
    "        if search(tab,constrain):\n",
    "            return True\n",
    "        tab[r,c]=0\n",
    "    return False"
   ]
  },
  {
   "cell_type": "code",
   "execution_count": 54,
   "metadata": {},
   "outputs": [
    {
     "data": {
      "text/plain": [
       "True"
      ]
     },
     "execution_count": 54,
     "metadata": {},
     "output_type": "execute_result"
    }
   ],
   "source": [
    "search(tab,constrain)"
   ]
  },
  {
   "cell_type": "code",
   "execution_count": 55,
   "metadata": {},
   "outputs": [
    {
     "data": {
      "text/plain": [
       "array([[-1, -1, -1, -1, -1],\n",
       "       [-1,  2,  4,  1,  1],\n",
       "       [-1,  1,  1, -1, -1],\n",
       "       [-1,  1,  1,  1,  1],\n",
       "       [-1, -1, -1,  2,  1]])"
      ]
     },
     "execution_count": 55,
     "metadata": {},
     "output_type": "execute_result"
    }
   ],
   "source": [
    "tab"
   ]
  },
  {
   "cell_type": "code",
   "execution_count": 46,
   "metadata": {},
   "outputs": [
    {
     "data": {
      "text/plain": [
       "False"
      ]
     },
     "execution_count": 46,
     "metadata": {},
     "output_type": "execute_result"
    }
   ],
   "source": [
    "w=tab.copy()\n",
    "w[1,1:5]=np.array([1,2,4,5])\n",
    "w[3:5,3]=np.array([2,3])\n",
    "tab_solved(w,constrain=constrain)"
   ]
  },
  {
   "cell_type": "code",
   "execution_count": 149,
   "metadata": {},
   "outputs": [
    {
     "data": {
      "text/plain": [
       "True"
      ]
     },
     "execution_count": 149,
     "metadata": {},
     "output_type": "execute_result"
    }
   ],
   "source": [
    "constrain_hope(w,constrain=constrain[1])"
   ]
  }
 ],
 "metadata": {
  "kernelspec": {
   "display_name": "Python 3",
   "language": "python",
   "name": "python3"
  },
  "language_info": {
   "codemirror_mode": {
    "name": "ipython",
    "version": 3
   },
   "file_extension": ".py",
   "mimetype": "text/x-python",
   "name": "python",
   "nbconvert_exporter": "python",
   "pygments_lexer": "ipython3",
   "version": "3.10.5"
  }
 },
 "nbformat": 4,
 "nbformat_minor": 2
}
