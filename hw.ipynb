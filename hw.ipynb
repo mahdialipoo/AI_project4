{
 "cells": [
  {
   "cell_type": "code",
   "execution_count": 19,
   "metadata": {},
   "outputs": [],
   "source": [
    "import numpy as np\n",
    "m=9\n",
    "n=9\n",
    "tab=np.zeros([m,n],dtype=int)\n",
    "obs=np.zeros([m,n],dtype=int)\n",
    "obs[:,0]=1\n",
    "obs[0,3:n-2]=1\n",
    "obs[5:7,3:5]=1\n",
    "obs[1:3,6]=1\n",
    "tab[obs==1]=-1"
   ]
  },
  {
   "cell_type": "code",
   "execution_count": 20,
   "metadata": {},
   "outputs": [
    {
     "data": {
      "text/plain": [
       "array([[-1,  0,  0, -1, -1, -1, -1,  0,  0],\n",
       "       [-1,  0,  0,  0,  0,  0, -1,  0,  0],\n",
       "       [-1,  0,  0,  0,  0,  0, -1,  0,  0],\n",
       "       [-1,  0,  0,  0,  0,  0,  0,  0,  0],\n",
       "       [-1,  0,  0,  0,  0,  0,  0,  0,  0],\n",
       "       [-1,  0,  0, -1, -1,  0,  0,  0,  0],\n",
       "       [-1,  0,  0, -1, -1,  0,  0,  0,  0],\n",
       "       [-1,  0,  0,  0,  0,  0,  0,  0,  0],\n",
       "       [-1,  0,  0,  0,  0,  0,  0,  0,  0]])"
      ]
     },
     "execution_count": 20,
     "metadata": {},
     "output_type": "execute_result"
    }
   ],
   "source": [
    "tab"
   ]
  },
  {
   "cell_type": "code",
   "execution_count": 29,
   "metadata": {},
   "outputs": [],
   "source": [
    "constrain=[]\n",
    "c=[[0,0],2,False,5]#[[i,j],n,(True is vertical ) or (False is herozintal),sum]\n",
    "constrain.append(c)\n",
    "c=[[0,3],4,True,12]\n",
    "constrain.append(c)\n",
    "c=[[6,4],4,False,16]\n",
    "constrain.append(c)"
   ]
  },
  {
   "cell_type": "code",
   "execution_count": 89,
   "metadata": {},
   "outputs": [],
   "source": [
    "def const_is_sat(table,constrain):\n",
    "    if constrain==True:\n",
    "        return True\n",
    "    (i,j)=(constrain[0][0],constrain[0][1])\n",
    "    n=constrain[1]\n",
    "    sum=constrain[3]\n",
    "    if constrain[2]:\n",
    "        r=table[i+1:i+1+n,j]       \n",
    "    else:\n",
    "        r=table[i,j+1:j+1+n]\n",
    "    if not(np.unique(r[r!=0].size)==(r[r!=0].size)):\n",
    "        return False\n",
    "    if sum<np.sum(r):\n",
    "        return False\n",
    "    return True"
   ]
  },
  {
   "cell_type": "code",
   "execution_count": 90,
   "metadata": {},
   "outputs": [
    {
     "data": {
      "text/plain": [
       "True"
      ]
     },
     "execution_count": 90,
     "metadata": {},
     "output_type": "execute_result"
    }
   ],
   "source": [
    "const_is_sat(tab,constrain=constrain[0])"
   ]
  },
  {
   "cell_type": "code",
   "execution_count": 72,
   "metadata": {},
   "outputs": [],
   "source": [
    "(i,j)=(c[0][0],c[0][1])\n",
    "n=c[1]\n",
    "sum=c[3]\n",
    "if c[2]:\n",
    "    r=tab[i+1:i+1+n,j]       \n",
    "else:\n",
    "    r=tab[i,j+1:j+1+n]"
   ]
  },
  {
   "cell_type": "code",
   "execution_count": 110,
   "metadata": {},
   "outputs": [],
   "source": [
    "def search_constrain_v(constrain,x,y):\n",
    "    for i in constrain:\n",
    "        if i[2]==True and i[0][1]==y and x>i[0][0] and x<=i[0][0]+i[1]:\n",
    "            return i\n",
    "    return True\n",
    "def search_const_h(constrain,x,y):\n",
    "    for i in constrain:\n",
    "        if i[2]==False and i[0][0]==x and y>i[0][1] and y<=i[0][1]+i[1]:\n",
    "            return i\n",
    "    return True"
   ]
  },
  {
   "cell_type": "code",
   "execution_count": 105,
   "metadata": {},
   "outputs": [],
   "source": [
    "def select_cell(tab):\n",
    "    if not 0 in tab:\n",
    "        return -1,-1\n",
    "    else:\n",
    "        for i in tab.shape[0]:\n",
    "            for j in tab.shape[1]:\n",
    "                if tab[i,j]==0:\n",
    "                    return i,j\n",
    "    return r,c"
   ]
  },
  {
   "cell_type": "code",
   "execution_count": null,
   "metadata": {},
   "outputs": [],
   "source": [
    "def search(tab,constrain):\n",
    "    r,c=select_cell(tab)\n",
    "    if r==-1:\n",
    "        return True\n",
    "    c1=search_constrain_v(constrain,r,c)\n",
    "    c2=search_constrain_h(constrain,r,c)\n",
    "    for i in range(10):\n",
    "        tab[r,c]=i\n",
    "        if not(const_is_sat(tab,c1) or const_is_sat(tab,c2)):\n",
    "            tab[r,c]=0\n",
    "            continue\n",
    "        if search(tab,constrain):\n",
    "            return True\n",
    "        tab[r,c]=0\n",
    "    return False"
   ]
  },
  {
   "cell_type": "code",
   "execution_count": 108,
   "metadata": {},
   "outputs": [
    {
     "data": {
      "text/plain": [
       "(9, 9)"
      ]
     },
     "execution_count": 108,
     "metadata": {},
     "output_type": "execute_result"
    }
   ],
   "source": [
    "# c=np.random.choice(,size=1)[0]\n",
    "# c\n",
    "# for i in range(10):\n",
    "#     if i==5:\n",
    "#         continue\n",
    "#     print(i)\n",
    "tab.shape"
   ]
  }
 ],
 "metadata": {
  "kernelspec": {
   "display_name": "Python 3",
   "language": "python",
   "name": "python3"
  },
  "language_info": {
   "codemirror_mode": {
    "name": "ipython",
    "version": 3
   },
   "file_extension": ".py",
   "mimetype": "text/x-python",
   "name": "python",
   "nbconvert_exporter": "python",
   "pygments_lexer": "ipython3",
   "version": "3.10.5"
  }
 },
 "nbformat": 4,
 "nbformat_minor": 2
}
